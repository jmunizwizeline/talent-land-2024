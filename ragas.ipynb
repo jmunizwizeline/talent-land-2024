{
 "cells": [
  {
   "cell_type": "markdown",
   "metadata": {},
   "source": [
    "# Bonus Track - Ejemplo de uso de RAGAs para evaluar calidad de soluciones de IA Generativa"
   ]
  },
  {
   "cell_type": "markdown",
   "metadata": {},
   "source": [
    "# Paso 1 - Importamos dependencias necesarias para la demo\n",
    "\n",
    "En el fichero **requirements.txt** están definidas las dependencias necesarias de Python para poder correr la demo.\n",
    "\n",
    "Para importarlas debemos ejecutar el siguiente comando: *pip install -r requirements.txt*"
   ]
  },
  {
   "cell_type": "markdown",
   "metadata": {},
   "source": [
    "# Paso 2 - Definimos las variables de entorno necesarias para la demo\n",
    "\n",
    "Editar el fichero _.env_ donde debemos definir las siguientes variables de entorno:\n",
    "-  **OPENAI_API_KEY**: API Key para poder conectarnos al LLM que usaremos en la demo, OpenAI."
   ]
  },
  {
   "cell_type": "markdown",
   "metadata": {},
   "source": [
    "# Paso 3 - Importar librerías de Python que necesitamos para la demo"
   ]
  },
  {
   "cell_type": "code",
   "execution_count": 5,
   "metadata": {},
   "outputs": [
    {
     "data": {
      "text/plain": [
       "True"
      ]
     },
     "execution_count": 5,
     "metadata": {},
     "output_type": "execute_result"
    }
   ],
   "source": [
    "import os\n",
    "import json\n",
    "import random\n",
    "import pandas as pd\n",
    "\n",
    "from ragas import evaluate\n",
    "from ragas.metrics import (\n",
    "    answer_relevancy,\n",
    "    faithfulness#,\n",
    "    #context_recall,\n",
    "    #context_precision,\n",
    ")\n",
    "\n",
    "from langchain.chat_models import ChatOpenAI\n",
    "from datasets import load_dataset\n",
    "from datasets import Dataset\n",
    "\n",
    "\n",
    "from dotenv import load_dotenv\n",
    "\n",
    "# Load environment variables defined in .env\n",
    "load_dotenv()"
   ]
  },
  {
   "cell_type": "markdown",
   "metadata": {},
   "source": [
    "# Paso 4 - Cargamos un dataset de pruebas de HuggingFaces (explodinggradients/fiqa)\n",
    "\n",
    "For this tutorial we are going to use an example dataset from one of the baselines we created for the Financial Opinion Mining and Question Answering (fiqa) Dataset. The dataset has the following columns.\n",
    "\n",
    "-  question: list[str] - These are the questions your RAG pipeline will be evaluated on.\n",
    "-  answer: list[str] - The answer generated from the RAG pipeline and given to the user.\n",
    "-  contexts: list[list[str]] - The contexts which were passed into the LLM to answer the question.\n",
    "-  ground_truths: list[list[str]] - The ground truth answer to the questions. (only required if you are using context_recall)"
   ]
  },
  {
   "cell_type": "code",
   "execution_count": 6,
   "metadata": {},
   "outputs": [
    {
     "name": "stdout",
     "output_type": "stream",
     "text": [
      "Dataset({\n",
      "    features: ['question', 'ground_truths', 'answer', 'contexts'],\n",
      "    num_rows: 5\n",
      "})\n",
      "{'question': 'How to deposit a cheque issued to an associate in my business into my business account?', 'ground_truths': [\"Have the check reissued to the proper payee.Just have the associate sign the back and then deposit it.  It's called a third party cheque and is perfectly legal.  I wouldn't be surprised if it has a longer hold period and, as always, you don't get the money if the cheque doesn't clear. Now, you may have problems if it's a large amount or you're not very well known at the bank.  In that case you can have the associate go to the bank and endorse it in front of the teller with some ID.  You don't even technically have to be there.  Anybody can deposit money to your account if they have the account number. He could also just deposit it in his account and write a cheque to the business.\"], 'answer': '\\nThe best way to deposit a cheque issued to an associate in your business into your business account is to open a business account with the bank. You will need a state-issued \"dba\" certificate from the county clerk\\'s office as well as an Employer ID Number (EIN) issued by the IRS. Once you have opened the business account, you can have the associate sign the back of the cheque and deposit it into the business account.', 'contexts': ['Just have the associate sign the back and then deposit it.  It\\'s called a third party cheque and is perfectly legal.  I wouldn\\'t be surprised if it has a longer hold period and, as always, you don\\'t get the money if the cheque doesn\\'t clear. Now, you may have problems if it\\'s a large amount or you\\'re not very well known at the bank.  In that case you can have the associate go to the bank and endorse it in front of the teller with some ID.  You don\\'t even technically have to be there.  Anybody can deposit money to your account if they have the account number. He could also just deposit it in his account and write a cheque to the business.\"I have checked with Bank of America, and they say the ONLY way to cash (or deposit, or otherwise get access to the funds represented by a check made out to my business) is to open a business account. They tell me this is a Federal regulation, and every bank will say the same thing.  To do this, I need a state-issued \"\"dba\"\" certificate (from the county clerk\\'s office) as well as an Employer ID Number (EIN) issued by the IRS. AND their CHEAPEST business banking account costs $15 / month. I think I can go to the bank that the check is drawn upon, and they will cash it, assuming I have documentation showing that I am the sole proprietor. But I\\'m not sure.... What a racket!!\"When a business asks me to make out a cheque to a person rather than the business name, I take that as a red flag. Frankly it usually means that the person doesn\\'t want the money going through their business account for some reason - probably tax evasion. I\\'m not saying you are doing that, but it is a frequent issue. If the company makes the cheque out to a person they may run the risk of being party to fraud. Worse still they only have your word for it that you actually own the company, and aren\\'t ripping off your employer by pocketing their payment. Even worse, when the company is audited and finds that cheque, the person who wrote it will have to justify and document why they made it out to you or risk being charged with embezzlement. It\\'s very much in their interests to make the cheque out to the company they did business with. Given that, you should really have an account in the name of your business. It\\'s going to make your life much simpler in the long run.']}\n",
      "{'question': 'Can I send a money order from USPS as a business?', 'ground_truths': [\"Sure you can.  You can fill in whatever you want in the From section of a money order, so your business name and address would be fine. The price only includes the money order itself.  You can hand deliver it yourself if you want, but if you want to mail it, you'll have to provide an envelope and a stamp. Note that, since you won't have a bank record of this payment, you'll want to make sure you keep other records, such as the stub of the money order.  You should probably also ask the contractor to give you a receipt.\"], 'answer': '\\nYes, you can send a money order from USPS as a business. You can fill in whatever you want in the From section of the money order, including your business name and address. The price only includes the money order itself, so you will need to provide an envelope and a stamp if you want to mail it. It is important to keep records of the payment, such as the stub of the money order, and to ask the contractor for a receipt.', 'contexts': ['Sure you can.  You can fill in whatever you want in the From section of a money order, so your business name and address would be fine. The price only includes the money order itself.  You can hand deliver it yourself if you want, but if you want to mail it, you\\'ll have to provide an envelope and a stamp. Note that, since you won\\'t have a bank record of this payment, you\\'ll want to make sure you keep other records, such as the stub of the money order.  You should probably also ask the contractor to give you a receipt.\"Lets say you owed me $123.00 an wanted to mail me a check. I would then take the check from my mailbox an either take it to my bank, or scan it and deposit it via their electronic interface. Prior to you mailing it you would have no idea which bank I would use, or what my account number is. In fact I could have multiple bank accounts, so I could decide which one to deposit it into depending on what I wanted to do with the money, or which bank paid the most interest, or by coin flip. Now once the check is deposited my bank would then \"\"stamp\"\" the check with their name, their routing number, the date, an my account number. Eventually an image of the canceled check would then end up back at your bank. Which they would either send to you, or make available to you via their banking website. You don\\'t mail it to my bank. You mail it to my home, or my business, or wherever I tell you to mail it. Some business give you the address of another location, where either a 3rd party processes all their checks, or a central location  where all the money for multiple branches are processed. If you do owe a company they will generally ask that in the memo section in the lower left corner that you include your customer number. This is to make sure that if they have multiple Juans the money is accounted correctly. In all my dealings will paying bills and mailing checks I have never been asked to send a check directly to the bank. If they want you to do exactly as you describe, they should provide you with a form or other instructions.\"\"I have checked with Bank of America, and they say the ONLY way to cash (or deposit, or otherwise get access to the funds represented by a check made out to my business) is to open a business account. They tell me this is a Federal regulation, and every bank will say the same thing.  To do this, I need a state-issued \"\"dba\"\" certificate (from the county clerk\\'s office) as well as an Employer ID Number (EIN) issued by the IRS. AND their CHEAPEST business banking account costs $15 / month. I think I can go to the bank that the check is drawn upon, and they will cash it, assuming I have documentation showing that I am the sole proprietor. But I\\'m not sure.... What a racket!!\"']}\n",
      "{'question': '1 EIN doing business under multiple business names', 'ground_truths': [\"You're confusing a lot of things here. Company B LLC will have it's sales run under Company A LLC, and cease operating as a separate entity These two are contradicting each other. If B LLC ceases to exist - it is not going to have it's sales run under A LLC, since there will be no sales to run for a non-existent company. What happens is that you merge B LLC into A LLC, and then convert A LLC into S Corp. So you're cancelling the EIN for B LLC, you're cancelling the EIN for A LLC - because both entities cease to exist. You then create a EIN for A Corp, which is the converted A LLC, and you create a DBA where A Corp DBA B Shop. You then go to the bank and open the account for A Corp DBA B Shop with the EIN you just created for A Corp. Get a better accountant. Before you convert to S-Corp.\"], 'answer': '\\nYes, it is possible to have one EIN doing business under multiple business names. This can be done by filing a \"Doing Business As\" (DBA) document with the local government and having the bank call the county seat to verify the DBA. The DBA form will need to be processed and recorded, and there may be a fee associated with this.', 'contexts': ['You\\'re confusing a lot of things here. Company B LLC will have it\\'s sales run under Company A LLC, and cease operating as a separate entity These two are contradicting each other. If B LLC ceases to exist - it is not going to have it\\'s sales run under A LLC, since there will be no sales to run for a non-existent company. What happens is that you merge B LLC into A LLC, and then convert A LLC into S Corp. So you\\'re cancelling the EIN for B LLC, you\\'re cancelling the EIN for A LLC - because both entities cease to exist. You then create a EIN for A Corp, which is the converted A LLC, and you create a DBA where A Corp DBA B Shop. You then go to the bank and open the account for A Corp DBA B Shop with the EIN you just created for A Corp. Get a better accountant. Before you convert to S-Corp.You don\\'t need to notify the IRS of new members, the IRS doesn\\'t care (at this stage). What you do need, if you have a EIN for a single-member LLC, is to request a new EIN since your LLC is now a partnership (a different entity, from IRS perspective). From now on, you\\'ll need to file form 1065 with the IRS in case of business related income, on which you will declare the membership distribution interests on Schedules K-1 for each member.\"Depending on where you are, you may be able to get away with filing a \"\"Doing Business As\"\" document with your local government, and then having the bank call the county seat to verify this. There is generally a fee for processing/recording/filing the DBA form, of course. But it\\'s useful for more purposes than just this one. (I still need to file a DBA for my hobby work-for-pay, for exactly this reason.)\"']}\n",
      "{'question': 'Applying for and receiving business credit', 'ground_truths': ['\"I\\'m afraid the great myth of limited liability companies is that all such vehicles have instant access to credit.  Limited liability on a company with few physical assets to underwrite the loan, or with insufficient revenue, will usually mean that the owners (or others) will be asked to stand surety on any credit. However, there is a particular form of \"\"credit\"\" available to businesses on terms with their clients.  It is called factoring. Factoring is a financial transaction   whereby a business sells its accounts   receivable (i.e., invoices) to a third   party (called a factor) at a discount   in exchange for immediate money with   which to finance continued business.   Factoring differs from a bank loan in   three main ways. First, the emphasis   is on the value of the receivables   (essentially a financial asset), not   the firm’s credit worthiness.   Secondly, factoring is not a loan – it   is the purchase of a financial asset   (the receivable). Finally, a bank loan   involves two parties whereas factoring   involves three. Recognise that this can be quite expensive.  Most banks catering to small businesses will offer some form of factoring service, or will know of services that offer it.  It isn\\'t that different from cheque encashment services (pay-day services) where you offer a discount on future income for money now. An alternative is simply to ask his clients if they\\'ll pay him faster if he offers a discount (since either of interest payments or factoring would reduce profitability anyway).\"Banks will usually look at 2 years worth of tax returns for issuing business credit.  If those aren\\'t available (for instance, for recently formed businesses), they will look at the personal returns of the owners. Unfortunately, it sounds like your friend is in the latter category. Bringing in another partner isn\\'t necessarily going to help, either; with only two partners / owners, the bank would probably look at both owners\\' personal tax returns and credit histories.  It may be necessary to offer collateral. I\\'m sorry I can\\'t offer any better solutions, but alternative funding such as personal loans from family & friends could be necessary.  Perhaps making them partners in exchange for capital.'], 'answer': \"\\nApplying for and receiving business credit can be a difficult process, especially for businesses with limited assets or revenue. Banks will usually look at two years worth of tax returns for issuing business credit, and if those aren't available, they will look at the personal returns of the owners. It may be necessary to offer collateral, or to make family and friends partners in exchange for capital. An alternative is to use factoring, which is a financial transaction whereby a business sells its accounts receivable (invoices) to a third party at a discount in exchange for immediate money with which to finance continued business. Factoring differs from a bank loan in that it is the purchase of a financial asset (the receivable) and involves three parties instead of two. However, it can be quite expensive. Most banks catering to small businesses will offer some form of factoring service, or will know of services that offer it. Another option is to ask clients if they'll pay faster if a discount is offered.\", 'contexts': ['Set up a meeting with the bank that handles your business checking account. Go there in person and bring your business statements: profit and loss, balance sheet, and a spreadsheet showing your historical cash flow. The goal is to get your banker to understand your business and your needs and also for you to be on a first-name basis with your banker for an ongoing business relationship. Tell them you want to establish credit and you want a credit card account with $x as the limit. Your banker might be able to help push your application through even with your credit history. Even if you can\\'t get the limit you want, you\\'ll be on your way and can meet again with your banker in 6 or 12 months. Once your credit is re-established you\\'ll be able to shop around and apply for other rewards cards. One day you might want a line of credit or a business loan. Establishing a relationship with your banker ahead of time will make that process easier if and when the time comes. Continue to meet with him or her at least annually, and bring updated financial statements each time. If nothing else, this process will help you analyze your business, so the process itself is useful even if nothing comes of it immediately.Banks will usually look at 2 years worth of tax returns for issuing business credit.  If those aren\\'t available (for instance, for recently formed businesses), they will look at the personal returns of the owners. Unfortunately, it sounds like your friend is in the latter category. Bringing in another partner isn\\'t necessarily going to help, either; with only two partners / owners, the bank would probably look at both owners\\' personal tax returns and credit histories.  It may be necessary to offer collateral. I\\'m sorry I can\\'t offer any better solutions, but alternative funding such as personal loans from family & friends could be necessary.  Perhaps making them partners in exchange for capital.\"I\\'m afraid the great myth of limited liability companies is that all such vehicles have instant access to credit.  Limited liability on a company with few physical assets to underwrite the loan, or with insufficient revenue, will usually mean that the owners (or others) will be asked to stand surety on any credit. However, there is a particular form of \"\"credit\"\" available to businesses on terms with their clients.  It is called factoring. Factoring is a financial transaction   whereby a business sells its accounts   receivable (i.e., invoices) to a third   party (called a factor) at a discount   in exchange for immediate money with   which to finance continued business.   Factoring differs from a bank loan in   three main ways. First, the emphasis   is on the value of the receivables   (essentially a financial asset), not   the firm’s credit worthiness.   Secondly, factoring is not a loan – it   is the purchase of a financial asset   (the receivable). Finally, a bank loan   involves two parties whereas factoring   involves three. Recognise that this can be quite expensive.  Most banks catering to small businesses will offer some form of factoring service, or will know of services that offer it.  It isn\\'t that different from cheque encashment services (pay-day services) where you offer a discount on future income for money now. An alternative is simply to ask his clients if they\\'ll pay him faster if he offers a discount (since either of interest payments or factoring would reduce profitability anyway).\"']}\n",
      "{'question': '401k Transfer After Business Closure', 'ground_truths': [\"You should probably consult an attorney. However, if the owner was a corporation/LLC and it has been officially dissolved, you can provide an evidence of that from your State's department of State/Corporations to show that their request is unfeasible. If the owner was a sole-proprietor, then that may be harder as you'll need to track the person down and have him close the plan.\"], 'answer': '\\nIf your employer has closed and you need to transfer your 401k funds, you should contact the HR department of your former employer to get the necessary paperwork and instructions for the transfer. Depending on the plan, you may be able to transfer the funds to another 401k plan, such as the 401k plan of your new employer, or you may need to transfer the funds to an IRA. If you transfer the funds to an IRA, you will have more investment options and may be able to reduce the overhead fees associated with the account. Additionally, transferring the funds to an IRA will allow you to condense your 401k accounts over time and avoid any issues if your employer goes out of business.', 'contexts': ['The time horizon for your 401K/IRA is essentially the same, and it doesn\\'t stop at the day you retire. On the day you do the rollover you will be transferring your funds into similar investments. S&P500 index to S&P 500 index; 20xx retirement date to 20xx retirement date; small cap to small cap... If your vested portion is worth X $\\'s when the funds are sold, that is the amount that will be transferred to the IRA  custodian or the custodian for the new employer. Use the transfer to make any rebalancing adjustments that you want to make. But with as much as a year before you leave the company if you need to rebalance now, then do that irrespective of your leaving. Cash is what is transferred, not the individual stock or mutual fund shares. Only move your funds into a money market account with your current 401K if that makes the most sense for your retirement plan. Also keep in mind unless the amount in the 401K is very small you don\\'t have to do this on your last day of work. Even if you are putting the funds in a IRA wait until you have started with the new company and so can define all your buckets based on the options in the new company.\"You can move money from a 403b to a 401k plan, but the question you should ask yourself is whether it is a wise decision. Unless there are specific reasons for wanting to invest in your new employer\\'s 401k (e.g. you can buy your employer\\'s stock at discounted rates within the 401k, and this is a good investment according to your friends, neighbors, and brothers-in-law), you would be much better off moving the 403b money into an IRA, where you have many more choices for investment and usually can manage to find investments with lower investment costs (e.g. mutual fund fees) than in a typical employer\\'s 401k plan. On the other hand, 401k assets are better protected than IRA assets in case you are sued and a court finds you to be liable for damages; the plaintiff cannot come after the 401k assets if you cannot pay.  To answer the question of \"\"how?\"\", you need to talk to the HR people at your current employer to make sure that they are willing to accept a roll-over from another tax-deferred plan (not all plans are agreeable to do this) and get any paperwork from them, especially making sure that you find out where the check is to be sent, and to whom it should be payable. Then, talk to your previous employer\\'s HR people and tell them that you want to roll over your 403b money into the 401k plan of your new employer, fill out the paperwork, make sure they know to whom to cut the check to, and where it is to be sent etc. In my personal experience, I was sent the check payable to the custodian of my new (IRA) account, and I had to send it on to the custodian; my 403b people refused to send the check directly to the new custodian. The following January, you will receive a 1099-R form from your 403b plan showing the amount transferred to the new custodian, with hopefully the correct code letter indicating that the money was rolled over into another tax-deferred account.\"I would always suggest rolling over 401(k) plans to traditional IRAs when possible.  Particularly, assuming there is enough money in them that you can get a fee-free account at somewhere like Fidelity or Vanguard.  This is for a couple of reasons. First off, it opens up your investment choices significantly and can allow you significantly reduced expenses related to the account.  You may be able to find a superior offering from Vanguard or Fidelity to what your employer\\'s 401(k) plan allows; typically they only allow a small selection of funds to choose from.  You also may be able to reduce the overhead fees, as many 401(k) plans charge you an administrative fee for being in the plan separate from the funds\\' costs. Second, it allows you to condense 401(k)s over time; each time you change employers, you can rollover your 401(k) to your regular IRA and not have to deal with a bunch of different accounts with different passwords and such.  Even if they\\'re all at the same provider, odds are you will have to use separate accounts. Third, it avoids issues if your employer goes out of business.  While 401(k) plans are generally fully funded (particularly for former employers who you don\\'t have match or vesting concerns with), it can be a pain sometimes when the plan is terminated to access your funds - they may be locked for months while the bankruptcy court works things out. Finally, employers sometimes make it expensive for you to stay in - particularly if you do have a very small amount.  Don\\'t assume you\\'re allowed to stay in the former employer\\'s 401(k) plan fee-free; the plan will have specific instructions for what to do if you change employers, and it may include being required to leave the plan - or more often, it could increase the fees associated with the plan if you stay in.  Getting out sometimes will save you significantly, even with a low-cost plan.']}\n"
     ]
    }
   ],
   "source": [
    "# Load the dataset and we will only work on the first 10 questions\n",
    "fiqa_eval = load_dataset(\"explodinggradients/fiqa\", \"ragas_eval\")\n",
    "fiqa_eval_5_questions = fiqa_eval[\"baseline\"].select(range(5))\n",
    "\n",
    "# Show the dataset definition in terms of features and rows\n",
    "print(fiqa_eval_5_questions)\n",
    "\n",
    "# Show the dataset content\n",
    "for item in fiqa_eval_5_questions:\n",
    "    print(item)"
   ]
  },
  {
   "cell_type": "markdown",
   "metadata": {},
   "source": [
    "# Paso 5 - Primera prueba de RAG para el modelo GPT3.5 Turbo"
   ]
  },
  {
   "cell_type": "code",
   "execution_count": null,
   "metadata": {},
   "outputs": [],
   "source": [
    "# We load the ChatOpenAI Langchain utility to interact with the model\n",
    "chat_gpt_3_llm = ChatOpenAI(model=\"gpt-3.5-turbo-0125\",\n",
    "    temperature=0,\n",
    "    max_tokens=None,\n",
    "    timeout=None,\n",
    "    max_retries=2)\n",
    "\n",
    "# Invoque ChatGPT 3.5 with the dataset questions to get the answer for each of it\n",
    "answers = []\n",
    "for item in fiqa_eval_5_questions:\n",
    "    model_answer = chat_gpt_3_llm.invoke(item['question']).content\n",
    "    answers.append(model_answer)\n",
    "\n",
    "# Prepare a dataset to evaluate with RAGAs with the questions and answers\n",
    "ragas_dataset = Dataset.from_dict({\n",
    "    'question': fiqa_eval_5_questions['question'],\n",
    "    'answer': answers#,\n",
    "    #'contexts': fiqa_eval_5_questions['contexts'],\n",
    "    #'ground_truths': fiqa_eval_5_questions['ground_truths']\n",
    "})\n",
    "\n",
    "# Evaluate the results with RAGAs\n",
    "result = evaluate(\n",
    "    ragas_dataset,\n",
    "    metrics=[\n",
    "        faithfulness,\n",
    "        answer_relevancy#,\n",
    "        #context_precision,\n",
    "        #context_recall\n",
    "    ],\n",
    ")\n",
    "\n",
    "# Print them\n",
    "df = result.to_pandas()\n",
    "df.head()"
   ]
  },
  {
   "cell_type": "markdown",
   "metadata": {},
   "source": [
    "# Paso 6 - Mismo ejercico pero con ChatGPT 4o"
   ]
  },
  {
   "cell_type": "code",
   "execution_count": null,
   "metadata": {},
   "outputs": [],
   "source": [
    "# We load the ChatOpenAI Langchain utility to interact with the model\n",
    "chat_gpt_4o_llm = ChatOpenAI(model=\"gpt-4o\",\n",
    "    temperature=0,\n",
    "    max_tokens=None,\n",
    "    timeout=None,\n",
    "    max_retries=2)\n",
    "\n",
    "# Invoque ChatGPT 4o with the dataset questions to get the answer for each of it\n",
    "answers = []\n",
    "for item in fiqa_eval_5_questions:\n",
    "    model_answer = chat_gpt_4o_llm.invoke(item['question']).content\n",
    "    answers.append(model_answer)\n",
    "\n",
    "# Prepare a dataset to evaluate with RAGAs with the questions and answers\n",
    "ragas_dataset = Dataset.from_dict({\n",
    "    'question': fiqa_eval_5_questions['question'],\n",
    "    'answer': answers#,\n",
    "    #'contexts': fiqa_eval_5_questions['contexts'],\n",
    "    #'ground_truths': fiqa_eval_5_questions['ground_truths']\n",
    "})\n",
    "\n",
    "# Evaluate the results with RAGAs\n",
    "result = evaluate(\n",
    "    ragas_dataset,\n",
    "    metrics=[\n",
    "        faithfulness,\n",
    "        answer_relevancy#,\n",
    "        #context_precision,\n",
    "        #context_recall\n",
    "    ],\n",
    ")\n",
    "\n",
    "# Print them\n",
    "df = result.to_pandas()\n",
    "df.head()"
   ]
  }
 ],
 "metadata": {
  "kernelspec": {
   "display_name": "Python 3",
   "language": "python",
   "name": "python3"
  },
  "language_info": {
   "codemirror_mode": {
    "name": "ipython",
    "version": 3
   },
   "file_extension": ".py",
   "mimetype": "text/x-python",
   "name": "python",
   "nbconvert_exporter": "python",
   "pygments_lexer": "ipython3",
   "version": "3.10.14"
  }
 },
 "nbformat": 4,
 "nbformat_minor": 2
}
